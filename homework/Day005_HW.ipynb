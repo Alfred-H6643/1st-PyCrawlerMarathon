{
 "cells": [
  {
   "cell_type": "markdown",
   "metadata": {},
   "source": [
    "# API 資料串接 - 以 Dcard API 實作範例\n",
    "\n",
    "* 利用 urllib 套件的 urlretrieve 方法下載檔案\n",
    "* 了解 Python File I/O 讀檔、寫檔的用法\n",
    "* 能用運用資源管理器 With Statement 優化寫法"
   ]
  },
  {
   "cell_type": "markdown",
   "metadata": {},
   "source": [
    "## 作業目標\n",
    "\n",
    "* 請利用 API: https://www.dcard.tw/_api/forums/pet/posts?popular=true 回答下列問題：\n",
    "\n",
    "1. 這個 API 一次會回傳幾筆資料？每一筆資料包含哪些欄位？\n",
    "2. 取出每一筆資料的「標題」、「貼文時間」、「留言人數」、「按讚人數」\n",
    "3. 計算熱門/非熱門文章的「平均留言人數」與「平均按讚人數」"
   ]
  },
  {
   "cell_type": "code",
   "execution_count": 16,
   "metadata": {},
   "outputs": [
    {
     "name": "stdout",
     "output_type": "stream",
     "text": [
      "30\n",
      "\n",
      "dict_keys(['id', 'title', 'excerpt', 'anonymousSchool', 'anonymousDepartment', 'pinned', 'forumId', 'replyId', 'createdAt', 'updatedAt', 'commentCount', 'likeCount', 'withNickname', 'tags', 'topics', 'meta', 'forumName', 'forumAlias', 'gender', 'school', 'department', 'replyTitle', 'mediaMeta', 'reactions', 'hidden', 'customStyle', 'isSuspiciousAccount', 'layout', 'withImages', 'withVideos', 'media', 'reportReasonText', 'postAvatar'])\n"
     ]
    }
   ],
   "source": [
    "# 1. 這個 API 一次會回傳幾筆資料？每一筆資料包含哪些欄位？\n",
    "\n",
    "import requests\n",
    "import json\n",
    "\n",
    "r = requests.get('https://www.dcard.tw/_api/forums/pet/posts?popular=true')\n",
    "response = r.text\n",
    "\n",
    "jdata = json.loads(response)\n",
    "\n",
    "print(str(len(jdata))+\"\\n\")\n",
    "\n",
    "print(jdata[0].keys())\n",
    "    \n"
   ]
  },
  {
   "cell_type": "code",
   "execution_count": 12,
   "metadata": {},
   "outputs": [
    {
     "name": "stdout",
     "output_type": "stream",
     "text": [
      "[['找回失蹤狗狗😭 原來妳也在找我們', '2019-11-29T22:33:34.440Z', 156, 9270], ['我家的貓每天睡覺前一定會做的事', '2019-11-30T06:52:29.882Z', 64, 2162], ['被擠床原來是一件幸福的事', '2019-11-30T04:15:42.699Z', 13, 807], ['#哈士奇 滿一歲啦 文長 滿滿的二哈', '2019-11-30T16:30:51.154Z', 15, 360], ['媽 晚餐好了沒', '2019-11-30T10:42:58.582Z', 4, 247], ['有貓快拜！！', '2019-11-30T03:07:22.599Z', 4, 205], ['有人要吸兔嗎？', '2019-11-30T04:58:10.195Z', 29, 167], ['你到底是貓還是狗？', '2019-11-30T14:32:06.500Z', 3, 44], ['白圍巾白手套橘貓❤️', '2019-11-30T07:44:14.420Z', 6, 39], ['原來柴犬可以那麽可愛🐕', '2019-11-30T17:17:51.628Z', 2, 31], ['我養的是工讀生？🤔', '2019-12-01T02:07:09.729Z', 6, 30], ['四個月的布偶屁貓', '2019-11-30T11:24:26.047Z', 1, 27], ['#柴 #影片 到底有多討厭洗澡', '2019-11-30T03:24:55.897Z', 1, 27], ['從沒想過山竹可以這麼可口ฅ', '2019-11-30T10:24:08.529Z', 5, 23], ['我不是貓 我是兔子', '2019-11-30T11:16:53.115Z', 1, 22], ['自嗨小橘貓', '2019-11-30T20:21:16.782Z', 1, 21], ['如果當初這樣做 或許結局就能不同了吧', '2019-12-01T00:49:18.221Z', 0, 18], ['#貓咪 十隻白貓九隻胖', '2019-11-30T15:24:46.075Z', 6, 18], ['我家阿咪的特技', '2019-11-30T18:43:59.640Z', 4, 17], ['你一定要這樣厭世嗎', '2019-11-30T13:05:07.439Z', 1, 16], ['就算之後天天吃泡麵也要救活妳', '2019-11-30T11:59:28.473Z', 0, 16], ['#貓 #影 #圖 不只慢半拍ㄉ音癡（？', '2019-11-30T08:14:35.514Z', 2, 16], ['小寶貝', '2019-11-30T16:01:13.979Z', 0, 14], ['我家貓咪真可愛♥️♥️', '2019-11-30T06:31:53.631Z', 6, 13], ['急尋愛貓一隻🙏🙏', '2019-11-30T13:31:14.399Z', 2, 12], ['這個哈欠...', '2019-11-30T02:20:59.472Z', 2, 12], ['請問⋯妳是在哈囉？', '2019-11-30T19:16:39.494Z', 2, 10], ['白貓是不是很白目？', '2019-11-30T12:47:15.519Z', 4, 9], ['睡到投降的傻布偶小貓', '2019-12-01T02:10:49.971Z', 0, 8], ['你們吸貓，我被貓吸', '2019-11-30T19:10:22.899Z', 0, 8]]\n"
     ]
    }
   ],
   "source": [
    "# 2. 取出每一筆資料的「標題」、「貼文時間」、「留言人數」、「按讚人數」\n",
    "\n",
    "Ans2 = []\n",
    "for i in jdata:\n",
    "    Ans2.append([i['title'],i['createdAt'], i['commentCount'],i['likeCount']])\n",
    "print(Ans2)"
   ]
  },
  {
   "cell_type": "code",
   "execution_count": 20,
   "metadata": {},
   "outputs": [
    {
     "name": "stdout",
     "output_type": "stream",
     "text": [
      "熱門文章的平均留言人數為： 11.733333333333333\n",
      "熱門文章的平均按讚人數為： 470.9\n"
     ]
    }
   ],
   "source": [
    "# 3. 計算熱門/非熱門文章的「平均留言人數」與「平均按讚人數」\n",
    "\n",
    "comment_sum = 0\n",
    "like_sum = 0\n",
    "\n",
    "for i in jdata:\n",
    "    comment_sum += int(i['commentCount'])\n",
    "    like_sum += i['likeCount']\n",
    "print(\"熱門文章的平均留言人數為： \" + str((comment_sum/len(jdata))))\n",
    "print(\"熱門文章的平均按讚人數為： \" + str((like_sum/len(jdata))))\n",
    "\n",
    "\n",
    "comment_sum = 0\n",
    "like_sume = 0\n",
    "\n",
    "r2 = requests.get(\"https://www.dcard.tw/_api/forums/pet/posts?popular=false\")\n",
    "jdata2 = json.loads(r2.text)\n",
    "\n",
    "for i in jdata2:\n",
    "    comment_sum += int(i['commentCount'])\n",
    "    like_sum += i['likeCount']\n",
    "print(\"熱門文章的平均留言人數為： \" + str((comment_sum/len(jdata))))\n",
    "print(\"熱門文章的平均按讚人數為： \" + str((like_sum/len(jdata))))"
   ]
  },
  {
   "cell_type": "code",
   "execution_count": null,
   "metadata": {},
   "outputs": [],
   "source": []
  },
  {
   "cell_type": "code",
   "execution_count": null,
   "metadata": {},
   "outputs": [],
   "source": []
  }
 ],
 "metadata": {
  "kernelspec": {
   "display_name": "Python 3",
   "language": "python",
   "name": "python3"
  },
  "language_info": {
   "codemirror_mode": {
    "name": "ipython",
    "version": 3
   },
   "file_extension": ".py",
   "mimetype": "text/x-python",
   "name": "python",
   "nbconvert_exporter": "python",
   "pygments_lexer": "ipython3",
   "version": "3.7.4"
  }
 },
 "nbformat": 4,
 "nbformat_minor": 2
}
