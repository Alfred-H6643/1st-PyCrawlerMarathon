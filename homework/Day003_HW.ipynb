{
 "cells": [
  {
   "cell_type": "markdown",
   "metadata": {},
   "source": [
    "# Python 下載XML檔案與解析\n",
    "\n",
    "\n",
    "* 了解 xml 檔案格式與內容\n",
    "* 能夠利用套件存取 xml 格式的檔案\n"
   ]
  },
  {
   "cell_type": "markdown",
   "metadata": {},
   "source": [
    "## 作業目標\n",
    "\n",
    "* 比較一下範例檔案中的「File I/O」與「xmltodict」讀出來的內容有什麼差異\n",
    "\n",
    "* 根據範例檔案的結果：\n",
    "    1. 請問高雄市有多少地區有溫度資料？\n",
    "    2. 請取出每一個地區所記錄的第一個時間點跟溫度\n",
    "    3. 請取出第一個地區所記錄的每一個時間點跟溫度"
   ]
  },
  {
   "cell_type": "markdown",
   "metadata": {},
   "source": [
    "### 比較一下範例檔案中的「File I/O」與「xmltodict」讀出來的內容有什麼差異\n"
   ]
  },
  {
   "cell_type": "code",
   "execution_count": 1,
   "metadata": {},
   "outputs": [
    {
     "name": "stdout",
     "output_type": "stream",
     "text": [
      "File I/O 讓資料以原本xml格式的文字出現，xmltodic則是以字典的方式讀取，因此使用xmltodic開啟後能夠以key值讀取特定的資料內容\n"
     ]
    }
   ],
   "source": [
    "print('File I/O 讓資料以原本xml格式的文字出現，xmltodic則是以字典的方式讀取，因此使用xmltodic開啟後能夠以key值讀取特定的資料內容')"
   ]
  },
  {
   "cell_type": "markdown",
   "metadata": {},
   "source": [
    "### 根據範例檔案的結果：\n",
    "\n",
    "1. 請問高雄市有多少地區有溫度資料？\n",
    "2. 請取出每一個地區所記錄的第一個時間點跟溫度\n",
    "3. 請取出第一個地區所記錄的每一個時間點跟溫度"
   ]
  },
  {
   "cell_type": "code",
   "execution_count": 6,
   "metadata": {},
   "outputs": [],
   "source": [
    "# 1. 請問高雄市有多少地區有溫度資料？\n",
    "# 下載檔案\n",
    "import urllib.request\n",
    "import zipfile\n",
    "\n",
    "res = \"http://opendata.cwb.gov.tw/govdownload?dataid=F-D0047-093&authorizationkey=rdec-key-123-45678-011121314\"\n",
    "urllib.request.urlretrieve(res, \"./data/example.zip\")\n",
    "f = zipfile.ZipFile('./data/example.zip')\n",
    "f.extractall('./data')"
   ]
  },
  {
   "cell_type": "code",
   "execution_count": 9,
   "metadata": {},
   "outputs": [
    {
     "name": "stdout",
     "output_type": "stream",
     "text": [
      "/Users/alfredhsu/opt/anaconda3/bin/python\n"
     ]
    }
   ],
   "source": [
    "import sys\n",
    "check = sys.executable\n",
    "print(check)"
   ]
  },
  {
   "cell_type": "code",
   "execution_count": 10,
   "metadata": {},
   "outputs": [
    {
     "name": "stdout",
     "output_type": "stream",
     "text": [
      "Collecting xmltodict\n",
      "  Downloading https://files.pythonhosted.org/packages/28/fd/30d5c1d3ac29ce229f6bdc40bbc20b28f716e8b363140c26eff19122d8a5/xmltodict-0.12.0-py2.py3-none-any.whl\n",
      "Installing collected packages: xmltodict\n",
      "Successfully installed xmltodict-0.12.0\n",
      "Note: you may need to restart the kernel to use updated packages.\n"
     ]
    }
   ],
   "source": [
    "pip install xmltodict"
   ]
  },
  {
   "cell_type": "code",
   "execution_count": 37,
   "metadata": {},
   "outputs": [
    {
     "name": "stdout",
     "output_type": "stream",
     "text": [
      "臺灣各縣市鄉鎮未來3天(72小時)逐3小時天氣預報\n"
     ]
    }
   ],
   "source": [
    "import xmltodict\n",
    "\n",
    "with open(\"./data/64_72hr_CH.xml\") as rawdata:\n",
    "    doc = dict(xmltodict.parse(rawdata.read()))\n",
    "\n",
    "print(doc['cwbopendata']['dataset']['datasetInfo']['datasetDescription'])"
   ]
  },
  {
   "cell_type": "code",
   "execution_count": 46,
   "metadata": {},
   "outputs": [
    {
     "name": "stdout",
     "output_type": "stream",
     "text": [
      "38\n"
     ]
    }
   ],
   "source": [
    "data = doc['cwbopendata']['dataset']['locations']['location']\n",
    "\n",
    "Ans1 = 0\n",
    "\n",
    "for locationName in data:\n",
    "    Ans1 +=1\n",
    "\n",
    "print(Ans1)"
   ]
  },
  {
   "cell_type": "code",
   "execution_count": 70,
   "metadata": {},
   "outputs": [
    {
     "name": "stdout",
     "output_type": "stream",
     "text": [
      "鹽埕區 2019-11-28T00:00:00+08:00 22\n"
     ]
    }
   ],
   "source": [
    "# 2. 請取出每一個地區所記錄的第一個時間點跟溫度\n",
    "\n",
    "first_time = data[0]['weatherElement'][0]['time'][0]['dataTime']\n",
    "first_Temp = data[0]['weatherElement'][0]['time'][0]['elementValue']['value']\n",
    "first_Name = data[0]['locationName']\n",
    "\n",
    "print(first_Name, first_time, first_Temp)"
   ]
  },
  {
   "cell_type": "code",
   "execution_count": 69,
   "metadata": {},
   "outputs": [
    {
     "name": "stdout",
     "output_type": "stream",
     "text": [
      "[['鹽埕區', '2019-11-28T00:00:00+08:00', '22'], ['鼓山區', '2019-11-28T00:00:00+08:00', '22'], ['左營區', '2019-11-28T00:00:00+08:00', '21'], ['楠梓區', '2019-11-28T00:00:00+08:00', '21'], ['三民區', '2019-11-28T00:00:00+08:00', '22'], ['新興區', '2019-11-28T00:00:00+08:00', '22'], ['前金區', '2019-11-28T00:00:00+08:00', '22'], ['苓雅區', '2019-11-28T00:00:00+08:00', '22'], ['前鎮區', '2019-11-28T00:00:00+08:00', '22'], ['旗津區', '2019-11-28T00:00:00+08:00', '22'], ['小港區', '2019-11-28T00:00:00+08:00', '22'], ['鳳山區', '2019-11-28T00:00:00+08:00', '22'], ['林園區', '2019-11-28T00:00:00+08:00', '23'], ['大寮區', '2019-11-28T00:00:00+08:00', '22'], ['大樹區', '2019-11-28T00:00:00+08:00', '21'], ['大社區', '2019-11-28T00:00:00+08:00', '21'], ['仁武區', '2019-11-28T00:00:00+08:00', '21'], ['鳥松區', '2019-11-28T00:00:00+08:00', '21'], ['岡山區', '2019-11-28T00:00:00+08:00', '21'], ['橋頭區', '2019-11-28T00:00:00+08:00', '21'], ['燕巢區', '2019-11-28T00:00:00+08:00', '20'], ['田寮區', '2019-11-28T00:00:00+08:00', '19'], ['阿蓮區', '2019-11-28T00:00:00+08:00', '19'], ['路竹區', '2019-11-28T00:00:00+08:00', '21'], ['湖內區', '2019-11-28T00:00:00+08:00', '21'], ['茄萣區', '2019-11-28T00:00:00+08:00', '21'], ['永安區', '2019-11-28T00:00:00+08:00', '20'], ['彌陀區', '2019-11-28T00:00:00+08:00', '20'], ['梓官區', '2019-11-28T00:00:00+08:00', '20'], ['旗山區', '2019-11-28T00:00:00+08:00', '20'], ['美濃區', '2019-11-28T00:00:00+08:00', '21'], ['六龜區', '2019-11-28T00:00:00+08:00', '20'], ['甲仙區', '2019-11-28T00:00:00+08:00', '19'], ['杉林區', '2019-11-28T00:00:00+08:00', '20'], ['內門區', '2019-11-28T00:00:00+08:00', '19'], ['茂林區', '2019-11-28T00:00:00+08:00', '20'], ['桃源區', '2019-11-28T00:00:00+08:00', '18'], ['那瑪夏區', '2019-11-28T00:00:00+08:00', '17']]\n"
     ]
    }
   ],
   "source": [
    "x2 = 0\n",
    "Ans2 = []\n",
    "for locationName in data:\n",
    "    Name = data[x2]['locationName']\n",
    "    Time = data[x2]['weatherElement'][0]['time'][0]['dataTime']\n",
    "    Temp = data[x2]['weatherElement'][0]['time'][0]['elementValue']['value']\n",
    "    Ans2.append([Name, Time, Temp])\n",
    "    x2 +=1\n",
    "print(Ans2)"
   ]
  },
  {
   "cell_type": "code",
   "execution_count": 94,
   "metadata": {},
   "outputs": [
    {
     "name": "stdout",
     "output_type": "stream",
     "text": [
      "[['2019-11-28T00:00:00+08:00', '22'], ['2019-11-28T03:00:00+08:00', '21'], ['2019-11-28T06:00:00+08:00', '20']]\n"
     ]
    }
   ],
   "source": [
    "# 3. 請取出第一個地區所記錄的每一個時間點跟溫度\n",
    "L1 = doc['cwbopendata']['dataset']['locations']['location'][0]['weatherElement'][0]\n",
    "\n",
    "x3 = 0\n",
    "Ans3 = []\n",
    "\n",
    "for time in L1:\n",
    "\n",
    "    Time = L1['time'][x3]['dataTime']\n",
    "    Temp = L1['time'][x3]['elementValue']['value']\n",
    "    Ans3.append([Time, Temp])\n",
    "    x3 +=1        \n",
    "\n",
    "print(Ans3)"
   ]
  },
  {
   "cell_type": "code",
   "execution_count": null,
   "metadata": {},
   "outputs": [],
   "source": []
  }
 ],
 "metadata": {
  "kernelspec": {
   "display_name": "Python 3",
   "language": "python",
   "name": "python3"
  },
  "language_info": {
   "codemirror_mode": {
    "name": "ipython",
    "version": 3
   },
   "file_extension": ".py",
   "mimetype": "text/x-python",
   "name": "python",
   "nbconvert_exporter": "python",
   "pygments_lexer": "ipython3",
   "version": "3.7.4"
  }
 },
 "nbformat": 4,
 "nbformat_minor": 2
}
