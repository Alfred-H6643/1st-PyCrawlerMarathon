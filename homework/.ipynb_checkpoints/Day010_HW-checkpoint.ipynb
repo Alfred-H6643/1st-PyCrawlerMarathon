{
 "cells": [
  {
   "cell_type": "markdown",
   "metadata": {},
   "source": [
    "# 其他工具：Grab、PyQuery\n",
    "\n",
    "\n",
    "* 利用 Grab 套件的存取 HTML 資源\n",
    "* 利用 PyQuery 套件的解析 HTML 格式\n"
   ]
  },
  {
   "cell_type": "markdown",
   "metadata": {},
   "source": [
    "## 作業目標\n",
    "\n",
    "將之前用 requests + beatifulsoup 實作的方式，改寫成 grab + pyquery，並且比較有哪些地方不同。\n",
    "\n",
    "\n",
    "\n"
   ]
  },
  {
   "cell_type": "markdown",
   "metadata": {},
   "source": [
    "## requests + BeautifulSoup\n"
   ]
  },
  {
   "cell_type": "code",
   "execution_count": 1,
   "metadata": {},
   "outputs": [
    {
     "name": "stdout",
     "output_type": "stream",
     "text": [
      "<title>谷歌帝國的最新掌門人桑達·皮采的履歷和最新職責 - BBC News 中文</title>\n"
     ]
    }
   ],
   "source": [
    "import requests\n",
    "from bs4 import BeautifulSoup as BS\n",
    "\n",
    "url = 'http://www.bbc.com/zhongwen/trad/business-50671223'\n",
    "\n",
    "resp = requests.get(url)\n",
    "\n",
    "soup = BS(resp.text)\n",
    "\n",
    "print(soup.title)"
   ]
  },
  {
   "cell_type": "markdown",
   "metadata": {},
   "source": [
    "## Grab + PyQuery"
   ]
  },
  {
   "cell_type": "code",
   "execution_count": 3,
   "metadata": {
    "scrolled": false
   },
   "outputs": [
    {
     "name": "stdout",
     "output_type": "stream",
     "text": [
      "Processing /Users/alfredhsu/Library/Caches/pip/wheels/84/ff/2d/08f71c11e5b73027dfa7d1ac8bd654b60af2df57ae89bd29d5/grab-0.6.41-cp37-none-any.whl\n",
      "Requirement already satisfied: defusedxml in /Users/alfredhsu/opt/anaconda3/lib/python3.7/site-packages (from grab) (0.6.0)\n",
      "Processing /Users/alfredhsu/Library/Caches/pip/wheels/77/c8/b6/bed2606b4ae3cf738c99c111d88ce33d8ae82171c40cbddbf0/pycurl-7.43.0.1-cp37-cp37m-macosx_10_9_x86_64.whl\n",
      "Requirement already satisfied: weblib>=0.1.28 in /Users/alfredhsu/opt/anaconda3/lib/python3.7/site-packages (from grab) (0.1.30)\n",
      "Requirement already satisfied: six in /Users/alfredhsu/opt/anaconda3/lib/python3.7/site-packages (from grab) (1.13.0)\n",
      "Requirement already satisfied: selection in /Users/alfredhsu/opt/anaconda3/lib/python3.7/site-packages (from grab) (0.0.14)\n",
      "Collecting lxml; platform_system != \"Windows\"\n",
      "\u001b[?25l  Downloading https://files.pythonhosted.org/packages/08/7f/981b9f4dc4f1926f9cbacbf61cba0f93ac7f466eeb62c0221b299fc5fe4f/lxml-4.4.2-cp37-cp37m-macosx_10_6_intel.macosx_10_9_intel.macosx_10_9_x86_64.macosx_10_10_intel.macosx_10_10_x86_64.whl (8.8MB)\n",
      "\u001b[K     |████████████████████████████████| 8.8MB 3.1MB/s eta 0:00:01\n",
      "\u001b[?25hRequirement already satisfied: user-agent in /Users/alfredhsu/opt/anaconda3/lib/python3.7/site-packages (from grab) (0.1.9)\n",
      "Requirement already satisfied: pytils in /Users/alfredhsu/opt/anaconda3/lib/python3.7/site-packages (from weblib>=0.1.28->grab) (0.3)\n",
      "Installing collected packages: pycurl, lxml, grab\n",
      "  Found existing installation: pycurl 7.43.0.3\n",
      "\u001b[31mERROR: Cannot uninstall 'pycurl'. It is a distutils installed project and thus we cannot accurately determine which files belong to it which would lead to only a partial uninstall.\u001b[0m\n",
      "Note: you may need to restart the kernel to use updated packages.\n"
     ]
    }
   ],
   "source": [
    "pip install grab"
   ]
  },
  {
   "cell_type": "code",
   "execution_count": 5,
   "metadata": {},
   "outputs": [
    {
     "name": "stdout",
     "output_type": "stream",
     "text": [
      "Processing /Users/alfredhsu/Library/Caches/pip/wheels/84/ff/2d/08f71c11e5b73027dfa7d1ac8bd654b60af2df57ae89bd29d5/grab-0.6.41-cp37-none-any.whl\n",
      "Requirement already satisfied, skipping upgrade: weblib>=0.1.28 in /Users/alfredhsu/opt/anaconda3/lib/python3.7/site-packages (from grab) (0.1.30)\n",
      "Processing /Users/alfredhsu/Library/Caches/pip/wheels/77/c8/b6/bed2606b4ae3cf738c99c111d88ce33d8ae82171c40cbddbf0/pycurl-7.43.0.1-cp37-cp37m-macosx_10_9_x86_64.whl\n",
      "Requirement already satisfied, skipping upgrade: user-agent in /Users/alfredhsu/opt/anaconda3/lib/python3.7/site-packages (from grab) (0.1.9)\n",
      "Requirement already satisfied, skipping upgrade: defusedxml in /Users/alfredhsu/opt/anaconda3/lib/python3.7/site-packages (from grab) (0.6.0)\n",
      "Requirement already satisfied, skipping upgrade: six in /Users/alfredhsu/opt/anaconda3/lib/python3.7/site-packages (from grab) (1.13.0)\n",
      "Requirement already satisfied, skipping upgrade: selection in /Users/alfredhsu/opt/anaconda3/lib/python3.7/site-packages (from grab) (0.0.14)\n",
      "Collecting lxml; platform_system != \"Windows\"\n",
      "  Using cached https://files.pythonhosted.org/packages/08/7f/981b9f4dc4f1926f9cbacbf61cba0f93ac7f466eeb62c0221b299fc5fe4f/lxml-4.4.2-cp37-cp37m-macosx_10_6_intel.macosx_10_9_intel.macosx_10_9_x86_64.macosx_10_10_intel.macosx_10_10_x86_64.whl\n",
      "Requirement already satisfied, skipping upgrade: pytils in /Users/alfredhsu/opt/anaconda3/lib/python3.7/site-packages (from weblib>=0.1.28->grab) (0.3)\n",
      "Installing collected packages: pycurl, lxml, grab\n",
      "  Found existing installation: pycurl 7.43.0.3\n",
      "\u001b[31mERROR: Cannot uninstall 'pycurl'. It is a distutils installed project and thus we cannot accurately determine which files belong to it which would lead to only a partial uninstall.\u001b[0m\n",
      "Note: you may need to restart the kernel to use updated packages.\n"
     ]
    }
   ],
   "source": [
    "pip install -U grab"
   ]
  },
  {
   "cell_type": "code",
   "execution_count": 6,
   "metadata": {},
   "outputs": [
    {
     "name": "stdout",
     "output_type": "stream",
     "text": [
      "Requirement already up-to-date: setuptools in /Users/alfredhsu/opt/anaconda3/lib/python3.7/site-packages (42.0.2.post20191203)\n",
      "Requirement already up-to-date: pip in /Users/alfredhsu/opt/anaconda3/lib/python3.7/site-packages (19.3.1)\n",
      "Note: you may need to restart the kernel to use updated packages.\n"
     ]
    }
   ],
   "source": [
    "pip install -U setuptools pip"
   ]
  }
 ],
 "metadata": {
  "kernelspec": {
   "display_name": "Python 3",
   "language": "python",
   "name": "python3"
  },
  "language_info": {
   "codemirror_mode": {
    "name": "ipython",
    "version": 3
   },
   "file_extension": ".py",
   "mimetype": "text/x-python",
   "name": "python",
   "nbconvert_exporter": "python",
   "pygments_lexer": "ipython3",
   "version": "3.7.4"
  }
 },
 "nbformat": 4,
 "nbformat_minor": 2
}
