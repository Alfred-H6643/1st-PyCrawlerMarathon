{
 "cells": [
  {
   "cell_type": "markdown",
   "metadata": {},
   "source": [
    "# PTT 網路爬蟲實作練習\n",
    "\n",
    "\n",
    "* 能夠利用 Request + BeatifulSour 撰寫爬蟲，並存放到合適的資料結構\n"
   ]
  },
  {
   "cell_type": "markdown",
   "metadata": {},
   "source": [
    "## 作業目標\n",
    "\n",
    "根據範例 ，完成以下問題：\n",
    "\n",
    "* ① 印出最新文章的「作者」「標題」「時間」\n",
    "* ② 印出第一頁所有文章的「作者」「標題」「時間」\n"
   ]
  },
  {
   "cell_type": "markdown",
   "metadata": {},
   "source": [
    "### ① 印出最新文章的「作者」「標題」「時間」"
   ]
  },
  {
   "cell_type": "code",
   "execution_count": 59,
   "metadata": {},
   "outputs": [
    {
     "name": "stdout",
     "output_type": "stream",
     "text": [
      "{'author': 'blue999', 'title': '\\n[花邊]林書豪被看破手腳?中媒:CBA生存比NBA更難\\n', 'date': '12/15'}\n"
     ]
    }
   ],
   "source": [
    "import requests\n",
    "from bs4 import BeautifulSoup as BS\n",
    "\n",
    "url = 'https://www.ptt.cc/bbs/NBA/index.html'\n",
    "\n",
    "resp = requests.get(url)\n",
    "\n",
    "soup = BS(resp.text)\n",
    "\n",
    "Ans1 = {}\n",
    "\n",
    "\n",
    "for i in soup.find_all(class_ = 'r-ent'):\n",
    "    author = i.find(class_ = 'author').text\n",
    "    title = i.find(class_ = 'title').text\n",
    "    date = i.find(class_ = 'date').text\n",
    "    \n",
    "    Ans1.update({'author':author,'title':title,'date':date})\n",
    "    print(Ans1)\n",
    "    \n",
    "    break\n",
    "\n",
    "    \n"
   ]
  },
  {
   "cell_type": "markdown",
   "metadata": {},
   "source": [
    "### ② 印出第一頁所有文章的「作者」「標題」「時間」"
   ]
  },
  {
   "cell_type": "code",
   "execution_count": 67,
   "metadata": {},
   "outputs": [
    {
     "name": "stdout",
     "output_type": "stream",
     "text": [
      "{'author': 'blue999', 'title': '[花邊]林書豪被看破手腳?中媒:CBA生存比NBA更難', 'date': '12/15'}\n",
      "{'author': 'kuluma', 'title': '[情報] WOJ：Doncic腳踝中度扭傷', 'date': '12/15'}\n",
      "{'author': 'wowoin', 'title': '[討論] 077這個傷', 'date': '12/15'}\n",
      "{'author': 'go190214', 'title': '[新聞] 厄齊爾控中國迫害維吾爾 兵工廠仿NBA火箭', 'date': '12/15'}\n",
      "{'author': 'thnlkj0665', 'title': '[花邊] 告別CBA返美訓練 史陶德邁爾仍有意再戰NBA', 'date': '12/15'}\n",
      "{'author': 'dog9527', 'title': '[討論] 喬丹快閃為啥台灣人還這麼愛他', 'date': '12/15'}\n",
      "{'author': 'MrSatan', 'title': 'Re: [情報] LeBron James進入30歲後數據表現', 'date': '12/15'}\n",
      "{'author': 'Vedan', 'title': '[公告] 板規v6.6', 'date': ' 5/24'}\n",
      "{'author': 'Vedan', 'title': '[公告] 樂透取消及未來不再開啟樂透', 'date': ' 6/24'}\n",
      "{'author': 'qazwsx879345', 'title': '[公告] 版主上任相關事項 ', 'date': '10/25'}\n",
      "{'author': 'JerroLi', 'title': '[情報] SEASON Schedule 賽程 December 19–20', 'date': '11/29'}\n",
      "{'author': 'dragon803', 'title': '[公告]是否禁止basketball top 5文章投票開始 ', 'date': '12/08'}\n"
     ]
    }
   ],
   "source": [
    "import requests\n",
    "from bs4 import BeautifulSoup as BS\n",
    "\n",
    "url = 'https://www.ptt.cc/bbs/NBA/index.html'\n",
    "\n",
    "resp = requests.get(url)\n",
    "\n",
    "soup = BS(resp.text)\n",
    "\n",
    "Ans2 = {}\n",
    "\n",
    "\n",
    "for i in soup.find_all(class_ = 'r-ent'):\n",
    "    author = i.find(class_ = 'author').text\n",
    "    title = i.find(class_ = 'title').text.replace('\\n', '')\n",
    "    date = i.find(class_ = 'date').text\n",
    "    \n",
    "    Ans2.update({'author':author,'title':title,'date':date})\n",
    "    print(Ans2)\n",
    "\n",
    "    "
   ]
  },
  {
   "cell_type": "markdown",
   "metadata": {},
   "source": [
    "### ③ 試著爬爬看其他版的文章"
   ]
  },
  {
   "cell_type": "code",
   "execution_count": 66,
   "metadata": {},
   "outputs": [
    {
     "name": "stdout",
     "output_type": "stream",
     "text": [
      "{'author': 'joanzkow', 'title': '[爆卦] 因藏獨言論，央視取消今晚英超阿森納直播', 'date': '12/15'}\n",
      "{'author': 'HiranoMiu', 'title': '[爆卦] 戴資穎敗給中國大帝陳雨菲！球后不保', 'date': '12/15'}\n",
      "{'author': 'seysem', 'title': '[問卦] 台藝大和北藝大的學生是不是很有氣質啊?', 'date': '12/15'}\n",
      "{'author': 'APPLEin5566', 'title': '[問卦] 我老闆叫我找人去談判怎辦？', 'date': '12/15'}\n",
      "{'author': 'qweewqq', 'title': '[爆卦] 戴資穎年終總決賽輸給中國陳雨菲', 'date': '12/15'}\n",
      "{'author': 'arsonlolita', 'title': '[公告] 八卦板板規(2019.08.21)', 'date': ' 8/21'}\n",
      "{'author': 'witty', 'title': '[協尋] 11/20高市大順一路548號順明街行車記錄', 'date': '11/24'}\n",
      "{'author': 'Amybook', 'title': '協尋12/6台中市向上路往精科五路行車記錄器', 'date': '12/08'}\n",
      "{'author': 'Bignana', 'title': '[公告] 一劍無悔，十二月置底閒聊文', 'date': '12/02'}\n",
      "{'author': 'ianian23', 'title': '協詢12/12 新北三重大智路與忠孝路口行車記錄器', 'date': '12/12'}\n"
     ]
    }
   ],
   "source": [
    "\n",
    "url = 'https://www.ptt.cc/bbs/Gossiping/index.html'\n",
    "\n",
    "resp = requests.get(url,cookies={'over18': '1'})\n",
    "\n",
    "soup = BS(resp.text)\n",
    "\n",
    "Ans3 = {}\n",
    "\n",
    "\n",
    "for i in soup.find_all(class_ = 'r-ent'):\n",
    "    author = i.find(class_ = 'author').text\n",
    "    title = i.find(class_ = 'title').text.replace('\\n', '')\n",
    "    date = i.find(class_ = 'date').text\n",
    "    \n",
    "    Ans3.update({'author':author,'title':title,'date':date})\n",
    "    print(Ans3)"
   ]
  }
 ],
 "metadata": {
  "kernelspec": {
   "display_name": "Python 3",
   "language": "python",
   "name": "python3"
  },
  "language_info": {
   "codemirror_mode": {
    "name": "ipython",
    "version": 3
   },
   "file_extension": ".py",
   "mimetype": "text/x-python",
   "name": "python",
   "nbconvert_exporter": "python",
   "pygments_lexer": "ipython3",
   "version": "3.7.4"
  }
 },
 "nbformat": 4,
 "nbformat_minor": 2
}
